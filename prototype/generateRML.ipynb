{
 "cells": [
  {
   "cell_type": "code",
   "execution_count": 3,
   "id": "69834139",
   "metadata": {},
   "outputs": [
    {
     "data": {
      "text/plain": [
       "{'JSON File': 'http://semweb.mmlab.be/ns/ql#JSONPath',\n",
       " 'XML File': 'http://semweb.mmlab.be/ns/ql#XPath',\n",
       " 'CSV File': 'http://semweb.mmlab.be/ns/ql#CSV'}"
      ]
     },
     "execution_count": 3,
     "metadata": {},
     "output_type": "execute_result"
    }
   ],
   "source": [
    "from rdflib import Graph, Namespace, URIRef, BNode, Literal\n",
    "from rdflib.namespace import RDF, SKOS\n",
    "import json\n",
    "\n",
    "#Load RML config into dict\n",
    "with open(\"RML_config.json\", \"r\") as config:\n",
    "    rml_conf = json.load(config)\n",
    "    \n",
    "rml_conf"
   ]
  },
  {
   "cell_type": "code",
   "execution_count": 4,
   "id": "ed2bc8e3",
   "metadata": {},
   "outputs": [],
   "source": [
    "#Read input into inputGraph\n",
    "inputGraph = Graph().parse(\"input_schema.ttl\", format=\"ttl\")\n",
    "#import pprint\n",
    "#for stmt in inputGraph:\n",
    "# pprint.pprint(stmt)"
   ]
  },
  {
   "cell_type": "code",
   "execution_count": 5,
   "id": "aede640b",
   "metadata": {},
   "outputs": [],
   "source": [
    "#Read mapping into mappingGraph\n",
    "mappingGraph = Graph().parse(\"mapping.ttl\", format=\"ttl\")\n",
    "#import pprint\n",
    "#for stmt in mappingGraph:\n",
    "#    pprint.pprint(stmt)"
   ]
  },
  {
   "cell_type": "code",
   "execution_count": 6,
   "id": "d526de55",
   "metadata": {},
   "outputs": [],
   "source": [
    "##Create rr and base namespace @prefix rr: <http://www.w3.org/ns/r2rml#>.\n",
    "rr = Namespace(\"http://www.w3.org/ns/r2rml#\")\n",
    "ql = Namespace(\"http://semweb.mmlab.be/ns/ql#\")\n",
    "rml = Namespace(\"http://semweb.mmlab.be/ns/rml#\")\n",
    "mapping_schema = Namespace(\"https://www.example.org/mappingSchema/\")\n",
    "n = Namespace(\"http://example.com/ns#\")\n",
    "dss = Namespace(\"https://www.example.org/dataSourceSchema/\")\n",
    "\n",
    "#create RML graph\n",
    "\n",
    "def initialise_graph():\n",
    "    g = Graph()\n",
    "\n",
    "    \n",
    "\n",
    "    g.bind(\"rr\", rr)\n",
    "    g.bind(\"ql\", ql)\n",
    "    g.bind(\"rml\", rml)\n",
    "    g.bind(\"mps\", mapping_schema)\n",
    "    g.bind(\"dss\", dss)\n",
    "    \n",
    "    return g"
   ]
  },
  {
   "cell_type": "code",
   "execution_count": 7,
   "id": "a41e5096",
   "metadata": {},
   "outputs": [
    {
     "name": "stdout",
     "output_type": "stream",
     "text": [
      "location.city\n"
     ]
    }
   ],
   "source": [
    "def get_JSON_path(key):\n",
    "    key_name = inputGraph.value(key, SKOS.prefLabel)\n",
    "    for parent_key in inputGraph.subjects(dss.refersTo, key):\n",
    "        if parent_key:\n",
    "            parent_key_name = get_JSON_path(parent_key)\n",
    "            return f\"{parent_key_name}.{key_name}\"    \n",
    "    return key_name\n",
    "\n",
    "print(get_JSON_path(URIRef(\"https://www.example.org/dataSource#city\")))"
   ]
  },
  {
   "cell_type": "code",
   "execution_count": 8,
   "id": "77c61dfb",
   "metadata": {},
   "outputs": [],
   "source": [
    "\n",
    "\n",
    "def create_pattern(pattern, subjectKey):\n",
    "    return pattern.replace(\"__self__\", get_JSON_path(subjectKey))\n",
    "\n",
    "\n",
    "def get_template(g, subjectKey):\n",
    "    namespace = g.value(subjectKey, mapping_schema.hasNamespace)\n",
    "    pattern_literal = g.value(subjectKey, mapping_schema.hasLocalNamePattern)\n",
    "    pattern = create_pattern(pattern_literal, subjectKey)\n",
    "    return f\"{namespace}{pattern}\"\n",
    "\n",
    "def add_prediacate_object(g, mappingConcept, predicate, objectValue, isLiteral=True):\n",
    "    bn_predicate_object = BNode()\n",
    "    g.add((mappingConcept, rr.predicateObjectMap, bn_predicate_object))\n",
    "    g.add((bn_predicate_object, rr.predicate, URIRef(predicate) )) \n",
    "    bn_object_map = BNode()\n",
    "    g.add((bn_predicate_object, rr.objectMap, bn_object_map))\n",
    "    if isLiteral:\n",
    "        g.add((bn_object_map, rml.reference, Literal(objectValue) )) "
   ]
  },
  {
   "cell_type": "code",
   "execution_count": 9,
   "id": "334eab35",
   "metadata": {},
   "outputs": [],
   "source": [
    "##Define Mapping concept\n",
    "\n",
    "\n",
    "###Find all source files\n",
    "with open('queries/source.rq') as f:###get SPARQL query from file\n",
    "    source_query=f.read()\n",
    "qres = inputGraph.query(source_query) ###query for all source files\n",
    "for row in qres:\n",
    "    g = initialise_graph()\n",
    "    json_name = row.srcName\n",
    "    mappingConcept = n[f\"{json_name}Mapping\"]\n",
    "    g.add((mappingConcept, RDF.type, rr.TriplesMap))\n",
    "\n",
    "    ##Define Datasource\n",
    "    srcConcept = row.src\n",
    "    file_name = row.srcFileName\n",
    "    iterator = row.iterator\n",
    "    referenceClass = URIRef(rml_conf[f\"{row.fileType}\"])\n",
    "\n",
    "    #generate logicalSource\n",
    "    bn_source = BNode()\n",
    "    g.add((mappingConcept, rml.logicalSource, bn_source))\n",
    "    g.add((bn_source, rml.iterator, Literal(iterator) )) \n",
    "    g.add((bn_source, rml.source, Literal(file_name) )) \n",
    "    g.add((bn_source, rml.referenceFormulation, referenceClass )) \n",
    "    \n",
    "    ##generate subjects\n",
    "    subjects = []\n",
    "    for subjectKey in mappingGraph.subjects(mapping_schema.subjectOf, srcConcept):\n",
    "        subjectClass = mappingGraph.value(subjectKey, mapping_schema.mapsTo)\n",
    "        template = get_template(mappingGraph, subjectKey)\n",
    "        bn_subject = BNode()\n",
    "        g.add((mappingConcept, rr.subjectMap, bn_subject))\n",
    "        g.add((bn_subject, rr.template, Literal(template) )) \n",
    "        g.add((bn_subject, rr[\"class\"], URIRef(subjectClass) ))\n",
    "        \n",
    "        #generate predicate objects\n",
    "        for objectKey in mappingGraph.subjects(mapping_schema.objectOf, subjectKey):\n",
    "            predicate = mappingGraph.value(objectKey,  mapping_schema.mapsTo)\n",
    "            objectValue = get_JSON_path(objectKey)\n",
    "            add_prediacate_object(g, mappingConcept, predicate, objectValue)\n",
    "    g.serialize(format='turtle', base=n, destination=f\"{json_name}_rml_generated.ttl\")"
   ]
  },
  {
   "cell_type": "code",
   "execution_count": null,
   "id": "ecdcf771",
   "metadata": {},
   "outputs": [],
   "source": []
  },
  {
   "cell_type": "code",
   "execution_count": null,
   "id": "8b4c49fe",
   "metadata": {},
   "outputs": [],
   "source": []
  },
  {
   "cell_type": "code",
   "execution_count": null,
   "id": "c81988d9",
   "metadata": {},
   "outputs": [],
   "source": []
  },
  {
   "cell_type": "code",
   "execution_count": null,
   "id": "4c24af51",
   "metadata": {},
   "outputs": [],
   "source": []
  },
  {
   "cell_type": "code",
   "execution_count": null,
   "id": "edf1469a",
   "metadata": {},
   "outputs": [],
   "source": []
  },
  {
   "cell_type": "code",
   "execution_count": null,
   "id": "b3e92635",
   "metadata": {},
   "outputs": [],
   "source": []
  }
 ],
 "metadata": {
  "kernelspec": {
   "display_name": "Python 3 (ipykernel)",
   "language": "python",
   "name": "python3"
  },
  "language_info": {
   "codemirror_mode": {
    "name": "ipython",
    "version": 3
   },
   "file_extension": ".py",
   "mimetype": "text/x-python",
   "name": "python",
   "nbconvert_exporter": "python",
   "pygments_lexer": "ipython3",
   "version": "3.10.2"
  }
 },
 "nbformat": 4,
 "nbformat_minor": 5
}
